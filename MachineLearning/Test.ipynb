{
 "cells": [
  {
   "attachments": {},
   "cell_type": "markdown",
   "metadata": {},
   "source": [
    "Đúng vậy, khi bạn sử dụng `git submodule add` để thêm một submodule và sau đó commit submodule trước, bạn phải commit các thay đổi trong submodule và sau đó commit các thay đổi trong repository chính (superproject) của nó.\n",
    "\n",
    "Khi bạn commit submodule, Git sẽ ghi lại thông tin về phiên bản cụ thể của submodule mà superproject đang sử dụng. Khi bạn commit repository chính, Git sẽ lưu các thay đổi này trong lịch sử của repository chính, bao gồm cả phiên bản của submodule. Lúc này, thông tin về submodule đã được kết nối vào repository chính và có thể được push lên GitHub hoặc nơi lưu trữ từ xa khác.\n",
    "\n",
    "Lưu ý rằng khi bạn clone kho lưu trữ gốc từ GitHub, các submodule không được tự động tạo và cập nhật. Thay vào đó, bạn cần chạy thêm một số lệnh (`git submodule init`, `git submodule update`) để cập nhật và kéo các repository con (submodules) tới phiên bản đã được chỉ định trong repository chính."
   ]
  }
 ],
 "metadata": {
  "language_info": {
   "name": "python"
  },
  "orig_nbformat": 4
 },
 "nbformat": 4,
 "nbformat_minor": 2
}
