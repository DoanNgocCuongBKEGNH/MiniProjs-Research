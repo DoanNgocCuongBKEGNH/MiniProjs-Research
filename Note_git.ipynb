{
 "cells": [
  {
   "attachments": {},
   "cell_type": "markdown",
   "metadata": {},
   "source": [
    "- git subtree / git subrepo (tích hợp repo con vào repo chính, làm việc, như một phần của dự án chung)\n",
    "git subtree add --prefix=MachineLearning https://github.com/DoanNgocCuongBKEGNH/new_test.git main\n",
    "(Tất cả thư mục trong repo đó được đặt trong folder MachineLearning thay cho old repo name). \n",
    "\n",
    "- git submodule (theo dõi một repository con trong repository chính): \n",
    "git clone https://github.com/DoanNgocCuongBKEGNH/MiniProj_DataScience_CareerPath\n",
    "cd MiniProj_DataScience_CareerPath\n",
    "git submodule add https://github.com/DoanNgocCuongBKEGNH/new_test\n",
    "git submodule add -b main https://github.com/lavibula/ML20222.PredictionBitcoin\n",
    "\n",
    "\n"
   ]
  },
  {
   "cell_type": "markdown",
   "metadata": {},
   "source": [
    "Khi di chuyển 2 git submodule OOP_team vào 1 thư mục mới bị lỗi submodule. Sau đó phải tạo thư mục mới hoàn toàn rồi clone lại để tránh lỗi đường dẫn ở file .gitmodule\n"
   ]
  }
 ],
 "metadata": {
  "language_info": {
   "name": "python"
  },
  "orig_nbformat": 4
 },
 "nbformat": 4,
 "nbformat_minor": 2
}
