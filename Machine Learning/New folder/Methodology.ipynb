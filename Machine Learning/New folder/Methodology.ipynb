{
 "cells": [
  {
   "cell_type": "markdown",
   "metadata": {},
   "source": [
    "Machine learning workflow:\n",
    "- Data Collection. \n",
    "- Data Exploration and Wrangling. \n",
    "- Data Preparation (Feature Engineering).\n",
    "- Building and training a model.\n",
    "- Evaluating the model performance.\n",
    "- Fine-tuning the model. \n",
    "- Evaluating the model performance."
   ]
  }
 ],
 "metadata": {
  "language_info": {
   "name": "python"
  },
  "orig_nbformat": 4
 },
 "nbformat": 4,
 "nbformat_minor": 2
}
